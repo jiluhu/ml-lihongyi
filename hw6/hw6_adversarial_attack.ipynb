{
  "nbformat": 4,
  "nbformat_minor": 0,
  "metadata": {
    "colab": {
      "name": "hw6_adversarial_attack.ipynb",
      "provenance": [],
      "collapsed_sections": []
    },
    "kernelspec": {
      "name": "python3",
      "display_name": "Python 3"
    },
    "accelerator": "GPU"
  },
  "cells": [
    {
      "cell_type": "markdown",
      "metadata": {
        "id": "DVe6Bbo7ubG1",
        "colab_type": "text"
      },
      "source": [
        "# Homework 6 - Attack\n",
        "\n",
        "若有任何問題，歡迎來信至助教信箱 ntu-ml-2020spring-ta@googlegroups.com\n",
        "\n",
        "作業網站: http://140.112.21.82:22224\n",
        "\n",
        "請將 200 張生成的 images 壓縮 .tgz 檔格式上傳\n",
        "\n",
        "Note: 解壓縮後不能包含資料夾"
      ]
    },
    {
      "cell_type": "markdown",
      "metadata": {
        "id": "eG8mz13HEgQY",
        "colab_type": "text"
      },
      "source": [
        "# 下載資料並解壓縮"
      ]
    },
    {
      "cell_type": "code",
      "metadata": {
        "id": "xsR0nYAP4UG7",
        "colab_type": "code",
        "outputId": "ee2fc4a2-e229-4b1b-825a-8ab4cfc3d6b9",
        "colab": {
          "base_uri": "https://localhost:8080/",
          "height": 101
        }
      },
      "source": [
        "# 下載資料\n",
        "!gdown --id '14CqX3OfY9aUbhGp4OpdSHLvq2321fUB7' --output data.zip\n",
        "# 解壓縮\n",
        "!unzip -qq -u data.zip\n",
        "# 確認目前的檔案\n",
        "!ls"
      ],
      "execution_count": 0,
      "outputs": [
        {
          "output_type": "stream",
          "text": [
            "Downloading...\n",
            "From: https://drive.google.com/uc?id=14CqX3OfY9aUbhGp4OpdSHLvq2321fUB7\n",
            "To: /content/data.zip\n",
            "17.9MB [00:00, 109MB/s] \n",
            "data  data.zip\tsample_data\n"
          ],
          "name": "stdout"
        }
      ]
    },
    {
      "cell_type": "code",
      "metadata": {
        "id": "DJU9X5k83nj8",
        "colab_type": "code",
        "colab": {}
      },
      "source": [
        "import os\n",
        "# 讀取 label.csv\n",
        "import pandas as pd\n",
        "# 讀取圖片\n",
        "from PIL import Image\n",
        "import numpy as np\n",
        "\n",
        "import torch\n",
        "# Loss function\n",
        "import torch.nn.functional as F\n",
        "# 讀取資料\n",
        "import torchvision.datasets as datasets\n",
        "from torch.utils.data import Dataset, DataLoader\n",
        "# 載入預訓練的模型\n",
        "import torchvision.models as models\n",
        "# 將資料轉換成符合預訓練模型的形式\n",
        "import torchvision.transforms as transforms\n",
        "# 顯示圖片\n",
        "import matplotlib.pyplot as plt\n",
        "\n",
        "device = torch.device(\"cuda\")"
      ],
      "execution_count": 0,
      "outputs": []
    },
    {
      "cell_type": "markdown",
      "metadata": {
        "id": "MNm-ut26QhD1",
        "colab_type": "text"
      },
      "source": [
        "# 讀取資料庫"
      ]
    },
    {
      "cell_type": "code",
      "metadata": {
        "id": "bSjagNDY59Es",
        "colab_type": "code",
        "colab": {}
      },
      "source": [
        "# 實作一個繼承 torch.utils.data.Dataset 的 Class 來讀取圖片\n",
        "class Adverdataset(Dataset):\n",
        "    def __init__(self, root, label, transforms):\n",
        "        # 圖片所在的資料夾\n",
        "        self.root = root\n",
        "        # 由 main function 傳入的 label\n",
        "        self.label = torch.from_numpy(label).long()\n",
        "        # 由 Attacker 傳入的 transforms 將輸入的圖片轉換成符合預訓練模型的形式\n",
        "        self.transforms = transforms\n",
        "        # 圖片檔案名稱的 list\n",
        "        self.fnames = []\n",
        "\n",
        "        for i in range(200):\n",
        "            self.fnames.append(\"{:03d}\".format(i))\n",
        "\n",
        "    def __getitem__(self, idx):\n",
        "        # 利用路徑讀取圖片\n",
        "        img = Image.open(os.path.join(self.root, self.fnames[idx] + '.png'))\n",
        "        # 將輸入的圖片轉換成符合預訓練模型的形式\n",
        "        img = self.transforms(img)\n",
        "        # 圖片相對應的 label\n",
        "        label = self.label[idx]\n",
        "        return img, label\n",
        "    \n",
        "    def __len__(self):\n",
        "        # 由於已知這次的資料總共有 200 張圖片 所以回傳 200\n",
        "        return 200"
      ],
      "execution_count": 0,
      "outputs": []
    },
    {
      "cell_type": "markdown",
      "metadata": {
        "id": "Ys658PQRQuUD",
        "colab_type": "text"
      },
      "source": [
        "# 載入模型並執行 FGSM 攻擊"
      ]
    },
    {
      "cell_type": "code",
      "metadata": {
        "id": "Sbfcpz0u98dp",
        "colab_type": "code",
        "colab": {}
      },
      "source": [
        "class Attacker:\n",
        "    def __init__(self, img_dir, label):\n",
        "        # 讀入預訓練模型 vgg16\n",
        "        self.model = models.vgg16(pretrained = True)\n",
        "        self.model.cuda()\n",
        "        self.model.eval()\n",
        "        self.mean = [0.485, 0.456, 0.406]\n",
        "        self.std = [0.229, 0.224, 0.225]\n",
        "        # 把圖片 normalize 到 0~1 之間 mean 0 variance 1\n",
        "        self.normalize = transforms.Normalize(self.mean, self.std, inplace=False)\n",
        "        transform = transforms.Compose([                \n",
        "                        transforms.Resize((224, 224), interpolation=3),\n",
        "                        transforms.ToTensor(),\n",
        "                        self.normalize\n",
        "                    ])\n",
        "        # 利用 Adverdataset 這個 class 讀取資料\n",
        "        self.dataset = Adverdataset('./data/images', label, transform)\n",
        "        \n",
        "        self.loader = torch.utils.data.DataLoader(\n",
        "                self.dataset,\n",
        "                batch_size = 1,\n",
        "                shuffle = False)\n",
        "\n",
        "    # FGSM 攻擊\n",
        "    def fgsm_attack(self, image, epsilon, data_grad):\n",
        "        # 找出 gradient 的方向\n",
        "        sign_data_grad = data_grad.sign()\n",
        "        # 將圖片加上 gradient 方向乘上 epsilon 的 noise\n",
        "        perturbed_image = image + epsilon * sign_data_grad\n",
        "        # 將圖片超過 1 或是小於 0 的部分 clip 掉\n",
        "        # perturbed_image = torch.clamp(perturbed_image, 0, 1)\n",
        "        return perturbed_image\n",
        "    \n",
        "    def attack(self, epsilon):\n",
        "        # 存下一些成功攻擊後的圖片 以便之後顯示\n",
        "        adv_examples = []\n",
        "        wrong, fail, success = 0, 0, 0\n",
        "        for (data, target) in self.loader:\n",
        "            data, target = data.to(device), target.to(device)\n",
        "            data_raw = data;\n",
        "            data.requires_grad = True\n",
        "            # 將圖片丟入 model 進行測試 得出相對應的 class\n",
        "            output = self.model(data)\n",
        "            init_pred = output.max(1, keepdim=True)[1]\n",
        "\n",
        "            # 如果 class 錯誤 就不進行攻擊\n",
        "            if init_pred.item() != target.item():\n",
        "                wrong += 1\n",
        "                continue\n",
        "            \n",
        "            # 如果 class 正確 就開始計算 gradient 進行 FGSM 攻擊\n",
        "            loss = F.nll_loss(output, target)\n",
        "            self.model.zero_grad()\n",
        "            loss.backward()\n",
        "            data_grad = data.grad.data\n",
        "            perturbed_data = self.fgsm_attack(data, epsilon, data_grad)\n",
        "\n",
        "            # 再將加入 noise 的圖片丟入 model 進行測試 得出相對應的 class        \n",
        "            output = self.model(perturbed_data)\n",
        "            final_pred = output.max(1, keepdim=True)[1]\n",
        "          \n",
        "            if final_pred.item() == target.item():\n",
        "                # 辨識結果還是正確 攻擊失敗\n",
        "                fail += 1\n",
        "            else:\n",
        "                # 辨識結果失敗 攻擊成功\n",
        "                success += 1\n",
        "                # 將攻擊成功的圖片存入\n",
        "                if len(adv_examples) < 5:\n",
        "                  adv_ex = perturbed_data * torch.tensor(self.std, device = device).view(3, 1, 1) + torch.tensor(self.mean, device = device).view(3, 1, 1)\n",
        "                  adv_ex = adv_ex.squeeze().detach().cpu().numpy() \n",
        "                  data_raw = data_raw * torch.tensor(self.std, device = device).view(3, 1, 1) + torch.tensor(self.mean, device = device).view(3, 1, 1)\n",
        "                  data_raw = data_raw.squeeze().detach().cpu().numpy()\n",
        "                  adv_examples.append( (init_pred.item(), final_pred.item(), data_raw , adv_ex) )        \n",
        "        final_acc = (fail / (wrong + success + fail))\n",
        "        \n",
        "        print(\"Epsilon: {}\\tTest Accuracy = {} / {} = {}\\n\".format(epsilon, fail, len(self.loader), final_acc))\n",
        "        return adv_examples, final_acc\n"
      ],
      "execution_count": 0,
      "outputs": []
    },
    {
      "cell_type": "markdown",
      "metadata": {
        "id": "m0irf-eIQ4Ra",
        "colab_type": "text"
      },
      "source": [
        "# 執行攻擊 並顯示攻擊成功率"
      ]
    },
    {
      "cell_type": "code",
      "metadata": {
        "id": "Q63paemI-CZK",
        "colab_type": "code",
        "outputId": "daaae6f8-490e-4dbc-94b5-92a16d68455e",
        "colab": {
          "base_uri": "https://localhost:8080/",
          "height": 84
        }
      },
      "source": [
        "if __name__ == '__main__':\n",
        "    # 讀入圖片相對應的 label\n",
        "    df = pd.read_csv(\"./data/labels.csv\")\n",
        "    df = df.loc[:, 'TrueLabel'].to_numpy()\n",
        "    label_name = pd.read_csv(\"./data/categories.csv\")\n",
        "    label_name = label_name.loc[:, 'CategoryName'].to_numpy()\n",
        "    # new 一個 Attacker class\n",
        "    attacker = Attacker('./data/images', df)\n",
        "    # 要嘗試的 epsilon\n",
        "    epsilons = [0.1, 0.01]\n",
        "\n",
        "    accuracies, examples = [], []\n",
        "\n",
        "    # 進行攻擊 並存起正確率和攻擊成功的圖片\n",
        "    for eps in epsilons:\n",
        "        ex, acc = attacker.attack(eps)\n",
        "        accuracies.append(acc)\n",
        "        examples.append(ex)"
      ],
      "execution_count": 0,
      "outputs": [
        {
          "output_type": "stream",
          "text": [
            "Epsilon: 0.1\tTest Accuracy = 6 / 200 = 0.03\n",
            "\n",
            "Epsilon: 0.01\tTest Accuracy = 54 / 200 = 0.27\n",
            "\n"
          ],
          "name": "stdout"
        }
      ]
    },
    {
      "cell_type": "markdown",
      "metadata": {
        "id": "ZjfF6UQcRA3L",
        "colab_type": "text"
      },
      "source": [
        "# 顯示 FGSM 產生的圖片"
      ]
    },
    {
      "cell_type": "code",
      "metadata": {
        "id": "ByUCTmMd-PL2",
        "colab_type": "code",
        "outputId": "c7ef35a6-8c42-49dc-81f0-20929bdf2894",
        "colab": {
          "base_uri": "https://localhost:8080/",
          "height": 1000
        }
      },
      "source": [
        "cnt = 0\n",
        "plt.figure(figsize=(30, 30))\n",
        "for i in range(len(epsilons)):\n",
        "    for j in range(len(examples[i])):\n",
        "        cnt += 1\n",
        "        plt.subplot(len(epsilons),len(examples[0]) * 2,cnt)\n",
        "        plt.xticks([], [])\n",
        "        plt.yticks([], [])\n",
        "        if j == 0:\n",
        "            plt.ylabel(\"Eps: {}\".format(epsilons[i]), fontsize=14)\n",
        "        orig,adv,orig_img, ex = examples[i][j]\n",
        "        # plt.title(\"{} -> {}\".format(orig, adv))\n",
        "        plt.title(\"original: {}\".format(label_name[orig].split(',')[0]))\n",
        "        orig_img = np.transpose(orig_img, (1, 2, 0))\n",
        "        plt.imshow(orig_img)\n",
        "        cnt += 1\n",
        "        plt.subplot(len(epsilons),len(examples[0]) * 2,cnt)\n",
        "        plt.title(\"adversarial: {}\".format(label_name[adv].split(',')[0]))\n",
        "        ex = np.transpose(ex, (1, 2, 0))\n",
        "        plt.imshow(ex)\n",
        "plt.tight_layout()\n",
        "plt.show()"
      ],
      "execution_count": 0,
      "outputs": []
    },
    {
      "cell_type": "code",
      "metadata": {
        "id": "XbID51Z8RTG5",
        "colab_type": "code",
        "colab": {}
      },
      "source": [
        ""
      ],
      "execution_count": 0,
      "outputs": []
    }
  ]
}